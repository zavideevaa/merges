{
  "cells": [
    {
      "cell_type": "markdown",
      "metadata": {
        "id": "view-in-github",
        "colab_type": "text"
      },
      "source": [
        "<a href=\"https://colab.research.google.com/github/zavideevaa/merges/blob/main/level_stats.ipynb\" target=\"_parent\"><img src=\"https://colab.research.google.com/assets/colab-badge.svg\" alt=\"Open In Colab\"/></a>"
      ]
    },
    {
      "cell_type": "code",
      "source": [
        "import pandas as pd\n",
        "import matplotlib.pyplot as plt\n",
        "import numpy as np"
      ],
      "metadata": {
        "id": "JhjzVRtsFIPr"
      },
      "execution_count": 82,
      "outputs": []
    },
    {
      "cell_type": "code",
      "source": [
        "f = pd.read_csv(\"Custom Events Report_1674472141.089301.csv\")\n",
        "f.sort_values(['M3Lvl', 'Result', 'orders_progress', 'Events'], inplace=True)\n",
        "f['Result'] = f['Result'].astype('str') \n",
        "f.query(\"M3Lvl == 1 and Result == 'won' and Users > 50\")\n",
        "# f['Result'].values"
      ],
      "metadata": {
        "colab": {
          "base_uri": "https://localhost:8080/",
          "height": 394
        },
        "id": "uiaxpj-5FMnL",
        "outputId": "2a3060f5-5272-4adc-c47c-d39ff3f08b2e"
      },
      "execution_count": 26,
      "outputs": [
        {
          "output_type": "execute_result",
          "data": {
            "text/plain": [
              "        App               Event  total_deletions  total_generators_taps  \\\n",
              "632   mycat  core_game_finished                0                      5   \n",
              "984   mycat  core_game_finished                0                     10   \n",
              "939   mycat  core_game_finished                0                      5   \n",
              "817   mycat  core_game_finished                0                     26   \n",
              "1185  mycat  core_game_finished                0                      6   \n",
              "1253  mycat  core_game_finished                0                     26   \n",
              "741   mycat  core_game_finished                0                      4   \n",
              "834   mycat  core_game_finished                0                      4   \n",
              "952   mycat  core_game_finished                0                     26   \n",
              "1055  mycat  core_game_finished                0                      3   \n",
              "1107  mycat  core_game_finished                0                      2   \n",
              "\n",
              "      total_merge_count orders_progress  M3Lvl Result  Events  Users  \\\n",
              "632                   8            1.00      1    won      61     59   \n",
              "984                  15            1.00      1    won      66     66   \n",
              "939                   9            1.00      1    won      74     72   \n",
              "817                  20            1.00      1    won      79     78   \n",
              "1185                 11            1.00      1    won      89     89   \n",
              "1253                  8            1.00      1    won     100    100   \n",
              "741                   8            1.00      1    won     109    109   \n",
              "834                   9            1.00      1    won     183    182   \n",
              "952                  30            1.00      1    won     254    253   \n",
              "1055                  8            1.00      1    won     411    411   \n",
              "1107                  8            1.00      1    won    2583   2561   \n",
              "\n",
              "      Events Per Users  \n",
              "632               1.03  \n",
              "984               1.00  \n",
              "939               1.03  \n",
              "817               1.01  \n",
              "1185              1.00  \n",
              "1253              1.00  \n",
              "741               1.00  \n",
              "834               1.01  \n",
              "952               1.00  \n",
              "1055              1.00  \n",
              "1107              1.01  "
            ],
            "text/html": [
              "\n",
              "  <div id=\"df-5c1bc9d1-0592-4bac-82c5-39985c179246\">\n",
              "    <div class=\"colab-df-container\">\n",
              "      <div>\n",
              "<style scoped>\n",
              "    .dataframe tbody tr th:only-of-type {\n",
              "        vertical-align: middle;\n",
              "    }\n",
              "\n",
              "    .dataframe tbody tr th {\n",
              "        vertical-align: top;\n",
              "    }\n",
              "\n",
              "    .dataframe thead th {\n",
              "        text-align: right;\n",
              "    }\n",
              "</style>\n",
              "<table border=\"1\" class=\"dataframe\">\n",
              "  <thead>\n",
              "    <tr style=\"text-align: right;\">\n",
              "      <th></th>\n",
              "      <th>App</th>\n",
              "      <th>Event</th>\n",
              "      <th>total_deletions</th>\n",
              "      <th>total_generators_taps</th>\n",
              "      <th>total_merge_count</th>\n",
              "      <th>orders_progress</th>\n",
              "      <th>M3Lvl</th>\n",
              "      <th>Result</th>\n",
              "      <th>Events</th>\n",
              "      <th>Users</th>\n",
              "      <th>Events Per Users</th>\n",
              "    </tr>\n",
              "  </thead>\n",
              "  <tbody>\n",
              "    <tr>\n",
              "      <th>632</th>\n",
              "      <td>mycat</td>\n",
              "      <td>core_game_finished</td>\n",
              "      <td>0</td>\n",
              "      <td>5</td>\n",
              "      <td>8</td>\n",
              "      <td>1.00</td>\n",
              "      <td>1</td>\n",
              "      <td>won</td>\n",
              "      <td>61</td>\n",
              "      <td>59</td>\n",
              "      <td>1.03</td>\n",
              "    </tr>\n",
              "    <tr>\n",
              "      <th>984</th>\n",
              "      <td>mycat</td>\n",
              "      <td>core_game_finished</td>\n",
              "      <td>0</td>\n",
              "      <td>10</td>\n",
              "      <td>15</td>\n",
              "      <td>1.00</td>\n",
              "      <td>1</td>\n",
              "      <td>won</td>\n",
              "      <td>66</td>\n",
              "      <td>66</td>\n",
              "      <td>1.00</td>\n",
              "    </tr>\n",
              "    <tr>\n",
              "      <th>939</th>\n",
              "      <td>mycat</td>\n",
              "      <td>core_game_finished</td>\n",
              "      <td>0</td>\n",
              "      <td>5</td>\n",
              "      <td>9</td>\n",
              "      <td>1.00</td>\n",
              "      <td>1</td>\n",
              "      <td>won</td>\n",
              "      <td>74</td>\n",
              "      <td>72</td>\n",
              "      <td>1.03</td>\n",
              "    </tr>\n",
              "    <tr>\n",
              "      <th>817</th>\n",
              "      <td>mycat</td>\n",
              "      <td>core_game_finished</td>\n",
              "      <td>0</td>\n",
              "      <td>26</td>\n",
              "      <td>20</td>\n",
              "      <td>1.00</td>\n",
              "      <td>1</td>\n",
              "      <td>won</td>\n",
              "      <td>79</td>\n",
              "      <td>78</td>\n",
              "      <td>1.01</td>\n",
              "    </tr>\n",
              "    <tr>\n",
              "      <th>1185</th>\n",
              "      <td>mycat</td>\n",
              "      <td>core_game_finished</td>\n",
              "      <td>0</td>\n",
              "      <td>6</td>\n",
              "      <td>11</td>\n",
              "      <td>1.00</td>\n",
              "      <td>1</td>\n",
              "      <td>won</td>\n",
              "      <td>89</td>\n",
              "      <td>89</td>\n",
              "      <td>1.00</td>\n",
              "    </tr>\n",
              "    <tr>\n",
              "      <th>1253</th>\n",
              "      <td>mycat</td>\n",
              "      <td>core_game_finished</td>\n",
              "      <td>0</td>\n",
              "      <td>26</td>\n",
              "      <td>8</td>\n",
              "      <td>1.00</td>\n",
              "      <td>1</td>\n",
              "      <td>won</td>\n",
              "      <td>100</td>\n",
              "      <td>100</td>\n",
              "      <td>1.00</td>\n",
              "    </tr>\n",
              "    <tr>\n",
              "      <th>741</th>\n",
              "      <td>mycat</td>\n",
              "      <td>core_game_finished</td>\n",
              "      <td>0</td>\n",
              "      <td>4</td>\n",
              "      <td>8</td>\n",
              "      <td>1.00</td>\n",
              "      <td>1</td>\n",
              "      <td>won</td>\n",
              "      <td>109</td>\n",
              "      <td>109</td>\n",
              "      <td>1.00</td>\n",
              "    </tr>\n",
              "    <tr>\n",
              "      <th>834</th>\n",
              "      <td>mycat</td>\n",
              "      <td>core_game_finished</td>\n",
              "      <td>0</td>\n",
              "      <td>4</td>\n",
              "      <td>9</td>\n",
              "      <td>1.00</td>\n",
              "      <td>1</td>\n",
              "      <td>won</td>\n",
              "      <td>183</td>\n",
              "      <td>182</td>\n",
              "      <td>1.01</td>\n",
              "    </tr>\n",
              "    <tr>\n",
              "      <th>952</th>\n",
              "      <td>mycat</td>\n",
              "      <td>core_game_finished</td>\n",
              "      <td>0</td>\n",
              "      <td>26</td>\n",
              "      <td>30</td>\n",
              "      <td>1.00</td>\n",
              "      <td>1</td>\n",
              "      <td>won</td>\n",
              "      <td>254</td>\n",
              "      <td>253</td>\n",
              "      <td>1.00</td>\n",
              "    </tr>\n",
              "    <tr>\n",
              "      <th>1055</th>\n",
              "      <td>mycat</td>\n",
              "      <td>core_game_finished</td>\n",
              "      <td>0</td>\n",
              "      <td>3</td>\n",
              "      <td>8</td>\n",
              "      <td>1.00</td>\n",
              "      <td>1</td>\n",
              "      <td>won</td>\n",
              "      <td>411</td>\n",
              "      <td>411</td>\n",
              "      <td>1.00</td>\n",
              "    </tr>\n",
              "    <tr>\n",
              "      <th>1107</th>\n",
              "      <td>mycat</td>\n",
              "      <td>core_game_finished</td>\n",
              "      <td>0</td>\n",
              "      <td>2</td>\n",
              "      <td>8</td>\n",
              "      <td>1.00</td>\n",
              "      <td>1</td>\n",
              "      <td>won</td>\n",
              "      <td>2583</td>\n",
              "      <td>2561</td>\n",
              "      <td>1.01</td>\n",
              "    </tr>\n",
              "  </tbody>\n",
              "</table>\n",
              "</div>\n",
              "      <button class=\"colab-df-convert\" onclick=\"convertToInteractive('df-5c1bc9d1-0592-4bac-82c5-39985c179246')\"\n",
              "              title=\"Convert this dataframe to an interactive table.\"\n",
              "              style=\"display:none;\">\n",
              "        \n",
              "  <svg xmlns=\"http://www.w3.org/2000/svg\" height=\"24px\"viewBox=\"0 0 24 24\"\n",
              "       width=\"24px\">\n",
              "    <path d=\"M0 0h24v24H0V0z\" fill=\"none\"/>\n",
              "    <path d=\"M18.56 5.44l.94 2.06.94-2.06 2.06-.94-2.06-.94-.94-2.06-.94 2.06-2.06.94zm-11 1L8.5 8.5l.94-2.06 2.06-.94-2.06-.94L8.5 2.5l-.94 2.06-2.06.94zm10 10l.94 2.06.94-2.06 2.06-.94-2.06-.94-.94-2.06-.94 2.06-2.06.94z\"/><path d=\"M17.41 7.96l-1.37-1.37c-.4-.4-.92-.59-1.43-.59-.52 0-1.04.2-1.43.59L10.3 9.45l-7.72 7.72c-.78.78-.78 2.05 0 2.83L4 21.41c.39.39.9.59 1.41.59.51 0 1.02-.2 1.41-.59l7.78-7.78 2.81-2.81c.8-.78.8-2.07 0-2.86zM5.41 20L4 18.59l7.72-7.72 1.47 1.35L5.41 20z\"/>\n",
              "  </svg>\n",
              "      </button>\n",
              "      \n",
              "  <style>\n",
              "    .colab-df-container {\n",
              "      display:flex;\n",
              "      flex-wrap:wrap;\n",
              "      gap: 12px;\n",
              "    }\n",
              "\n",
              "    .colab-df-convert {\n",
              "      background-color: #E8F0FE;\n",
              "      border: none;\n",
              "      border-radius: 50%;\n",
              "      cursor: pointer;\n",
              "      display: none;\n",
              "      fill: #1967D2;\n",
              "      height: 32px;\n",
              "      padding: 0 0 0 0;\n",
              "      width: 32px;\n",
              "    }\n",
              "\n",
              "    .colab-df-convert:hover {\n",
              "      background-color: #E2EBFA;\n",
              "      box-shadow: 0px 1px 2px rgba(60, 64, 67, 0.3), 0px 1px 3px 1px rgba(60, 64, 67, 0.15);\n",
              "      fill: #174EA6;\n",
              "    }\n",
              "\n",
              "    [theme=dark] .colab-df-convert {\n",
              "      background-color: #3B4455;\n",
              "      fill: #D2E3FC;\n",
              "    }\n",
              "\n",
              "    [theme=dark] .colab-df-convert:hover {\n",
              "      background-color: #434B5C;\n",
              "      box-shadow: 0px 1px 3px 1px rgba(0, 0, 0, 0.15);\n",
              "      filter: drop-shadow(0px 1px 2px rgba(0, 0, 0, 0.3));\n",
              "      fill: #FFFFFF;\n",
              "    }\n",
              "  </style>\n",
              "\n",
              "      <script>\n",
              "        const buttonEl =\n",
              "          document.querySelector('#df-5c1bc9d1-0592-4bac-82c5-39985c179246 button.colab-df-convert');\n",
              "        buttonEl.style.display =\n",
              "          google.colab.kernel.accessAllowed ? 'block' : 'none';\n",
              "\n",
              "        async function convertToInteractive(key) {\n",
              "          const element = document.querySelector('#df-5c1bc9d1-0592-4bac-82c5-39985c179246');\n",
              "          const dataTable =\n",
              "            await google.colab.kernel.invokeFunction('convertToInteractive',\n",
              "                                                     [key], {});\n",
              "          if (!dataTable) return;\n",
              "\n",
              "          const docLinkHtml = 'Like what you see? Visit the ' +\n",
              "            '<a target=\"_blank\" href=https://colab.research.google.com/notebooks/data_table.ipynb>data table notebook</a>'\n",
              "            + ' to learn more about interactive tables.';\n",
              "          element.innerHTML = '';\n",
              "          dataTable['output_type'] = 'display_data';\n",
              "          await google.colab.output.renderOutput(dataTable, element);\n",
              "          const docLink = document.createElement('div');\n",
              "          docLink.innerHTML = docLinkHtml;\n",
              "          element.appendChild(docLink);\n",
              "        }\n",
              "      </script>\n",
              "    </div>\n",
              "  </div>\n",
              "  "
            ]
          },
          "metadata": {},
          "execution_count": 26
        }
      ]
    },
    {
      "cell_type": "markdown",
      "source": [
        "Общий WinRate 1 level"
      ],
      "metadata": {
        "id": "BQRGqf6UQ3BU"
      }
    },
    {
      "cell_type": "code",
      "source": [
        "total_events = f.query(\"M3Lvl == 1\")['Users'].sum()\n",
        "win_events = f.query(\"M3Lvl == 1 and Result == 'won'\")['Users'].sum()\n",
        "interrupted_events = f.query(\"M3Lvl == 1 and Result == 'interrupted'\")['Users'].sum()\n",
        "restart_events = f.query(\"M3Lvl == 1 and Result == 'restarted'\")['Users'].sum()\n",
        "\n",
        "print(\"Win\", win_events/total_events)\n",
        "print(\"Interrupted\", interrupted_events/total_events)\n",
        "print('Restart', restart_events/total_events)"
      ],
      "metadata": {
        "colab": {
          "base_uri": "https://localhost:8080/"
        },
        "id": "-lMcJNnxHd6S",
        "outputId": "37d5bdb5-5131-4777-aaa6-5e03c1a12f9e"
      },
      "execution_count": 42,
      "outputs": [
        {
          "output_type": "stream",
          "name": "stdout",
          "text": [
            "Win 0.8056690500510725\n",
            "Interrupted 0.1481103166496425\n",
            "Restart 0.04622063329928498\n"
          ]
        }
      ]
    },
    {
      "cell_type": "markdown",
      "source": [
        "Статистика прохождения всех уровней"
      ],
      "metadata": {
        "id": "R0Ny9gBeS5nG"
      }
    },
    {
      "cell_type": "code",
      "source": [
        "all_levels = list(set(f['M3Lvl'].values))\n",
        "wins = []\n",
        "interrupted = []\n",
        "restarted = []\n",
        "\n",
        "for i in all_levels:\n",
        "  total_events = f.query(\"M3Lvl == {0}\".format(i))['Events'].sum()\n",
        "  win_events = f.query(\"M3Lvl == {0} and Result == 'won'\".format(i))['Events'].sum()\n",
        "  interrupted_events = f.query(\"M3Lvl == {0} and Result == 'interrupted'\".format(i))['Events'].sum()\n",
        "  restart_events = f.query(\"M3Lvl == {0} and Result == 'restarted'\".format(i))['Events'].sum()\n",
        "  # print(i)\n",
        "  # print(\"Win\", win_events/total_events, win_events)\n",
        "  # print(\"Interrupted\", interrupted_events/total_events, interrupted_events)\n",
        "  # print('Restart', restart_events/total_events, restart_events)\n",
        "  wins.append(win_events/total_events)\n",
        "  interrupted.append(interrupted_events/total_events)\n",
        "  restarted.append(restart_events/total_events)\n",
        "\n",
        "plt.plot(all_levels, wins, color='r', label='wins')\n",
        "plt.plot(all_levels, interrupted, color='g', label='interrupted')\n",
        "plt.plot(all_levels, restarted, color='b', label='restarted')\n",
        "\n",
        "plt.xlabel(\"Levels\")\n",
        "plt.ylabel(\"Rate\")\n",
        "plt.title(\"Levels statistics\")\n",
        "  \n",
        "# Adding legend, which helps us recognize the curve according to it's color\n",
        "plt.legend()\n",
        "  \n",
        "# To load the display window\n",
        "plt.show()\n"
      ],
      "metadata": {
        "colab": {
          "base_uri": "https://localhost:8080/",
          "height": 295
        },
        "id": "2SkXzD0LRvMZ",
        "outputId": "952e6adb-6093-4692-da3d-2304a6f537ff"
      },
      "execution_count": 107,
      "outputs": [
        {
          "output_type": "display_data",
          "data": {
            "text/plain": [
              "<Figure size 432x288 with 1 Axes>"
            ],
            "image/png": "[encoded data removed]"
          },
          "metadata": {
            "needs_background": "light"
          }
        }
      ]
    },
    {
      "cell_type": "code",
      "source": [
        "for i in range(len(wins)):\n",
        "  if wins[i] < 0.9:\n",
        "    print(all_levels[i])"
      ],
      "metadata": {
        "colab": {
          "base_uri": "https://localhost:8080/"
        },
        "id": "ghCQnsUgV4Ei",
        "outputId": "4ad4ce9a-c6de-4ed3-dfea-a47fb5cb4cda"
      },
      "execution_count": 60,
      "outputs": [
        {
          "output_type": "stream",
          "name": "stdout",
          "text": [
            "1\n",
            "2\n",
            "3\n",
            "4\n",
            "5\n",
            "11\n",
            "13\n",
            "22\n",
            "43\n"
          ]
        }
      ]
    },
    {
      "cell_type": "markdown",
      "source": [
        "Churn Rate"
      ],
      "metadata": {
        "id": "UcxwIEw7X24A"
      }
    },
    {
      "cell_type": "code",
      "source": [
        "all_levels = list(set(f['M3Lvl'].values))\n",
        "users = []\n",
        "users_percentage = []\n",
        "\n",
        "for i in range(len(all_levels)):\n",
        "  total_events = f.query(\"M3Lvl == {0}\".format(all_levels[i]))['Users'].sum()\n",
        "  users.append(total_events)\n",
        "\n",
        "for i in range(len(users)):\n",
        "  user_percentage.append()\n",
        "print(users)\n",
        "plt.plot(all_levels, users, color='r', label='users')\n",
        "\n",
        "# Adding legend, which helps us recognize the curve according to it's color\n",
        "plt.legend()\n",
        "  \n",
        "# To load the display window\n",
        "plt.show()"
      ],
      "metadata": {
        "colab": {
          "base_uri": "https://localhost:8080/",
          "height": 302
        },
        "id": "qEr1Rt2EXbNP",
        "outputId": "a3c18c70-9f38-4b69-857a-15589923ac72"
      },
      "execution_count": 108,
      "outputs": [
        {
          "output_type": "stream",
          "name": "stdout",
          "text": [
            "[7832, 2712, 1470, 975, 667, 463, 332, 257, 211, 184, 157, 124, 103, 78, 66, 60, 55, 50, 45, 38, 39, 38, 30, 25, 22, 22, 20, 17, 16, 14, 14, 12, 12, 11, 10, 10, 9, 9, 9, 9, 8, 7, 9, 7, 7, 7, 7, 6, 6, 6, 60]\n"
          ]
        },
        {
          "output_type": "display_data",
          "data": {
            "text/plain": [
              "<Figure size 432x288 with 1 Axes>"
            ],
            "image/png": "[encoded data removed]"
          },
          "metadata": {
            "needs_background": "light"
          }
        }
      ]
    },
    {
      "cell_type": "code",
      "source": [
        "churn = [1]\n",
        "for i in range(1, len(all_levels)):\n",
        "  churn.append(1 - users[i]/users[i-1])\n",
        "churn.pop(0)\n",
        "plt.plot(all_levels[:-2], churn [:-1], color='r', label='churn')\n",
        "# Adding legend, which helps us recognize the curve according to it's color\n",
        "plt.legend()\n",
        "plt.grid(True)\n",
        "# To load the display window\n",
        "plt.show()\n",
        "\n",
        "for i in range(len(churn)):\n",
        "  if churn[i] > 0.1:\n",
        "    print(i+1, churn[i], users[i])\n"
      ],
      "metadata": {
        "colab": {
          "base_uri": "https://localhost:8080/",
          "height": 699
        },
        "id": "aoI4j1v2amEU",
        "outputId": "7d83a343-f8f2-46cd-e82c-df468b869f8a"
      },
      "execution_count": 111,
      "outputs": [
        {
          "output_type": "display_data",
          "data": {
            "text/plain": [
              "<Figure size 432x288 with 1 Axes>"
            ],
            "image/png": "[encoded data removed]"
          },
          "metadata": {
            "needs_background": "light"
          }
        },
        {
          "output_type": "stream",
          "name": "stdout",
          "text": [
            "1 0.6537282941777324 7832\n",
            "2 0.4579646017699115 2712\n",
            "3 0.33673469387755106 1470\n",
            "4 0.3158974358974359 975\n",
            "5 0.3058470764617691 667\n",
            "6 0.28293736501079914 463\n",
            "7 0.22590361445783136 332\n",
            "8 0.17898832684824906 257\n",
            "9 0.12796208530805686 211\n",
            "10 0.1467391304347826 184\n",
            "11 0.21019108280254772 157\n",
            "12 0.16935483870967738 124\n",
            "13 0.24271844660194175 103\n",
            "14 0.15384615384615385 78\n",
            "19 0.15555555555555556 45\n",
            "22 0.21052631578947367 38\n",
            "23 0.16666666666666663 30\n",
            "24 0.12 25\n",
            "27 0.15000000000000002 20\n",
            "29 0.125 16\n",
            "31 0.1428571428571429 14\n",
            "40 0.11111111111111116 9\n",
            "41 0.125 8\n",
            "43 0.2222222222222222 9\n",
            "47 0.1428571428571429 7\n"
          ]
        }
      ]
    }
  ],
  "metadata": {
    "colab": {
      "name": "Data Table Display",
      "provenance": [],
      "include_colab_link": true
    },
    "kernelspec": {
      "display_name": "Python 3",
      "name": "python3"
    }
  },
  "nbformat": 4,
  "nbformat_minor": 0
}